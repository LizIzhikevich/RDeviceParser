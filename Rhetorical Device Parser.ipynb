{
 "cells": [
  {
   "cell_type": "markdown",
   "metadata": {},
   "source": [
    "#Rhetorical Device Parser\n",
    "\n",
    "Author: Liz Izhikevich\n",
    "\n",
    "Date: August 26, 2015"
   ]
  },
  {
   "cell_type": "markdown",
   "metadata": {},
   "source": [
    "##Introduction\n",
    "\n",
    "The purpose of this parser is to be able to identify popular rhetorical elements within given texts.\n",
    "\n",
    "Upon completion, it will be used to analyze literature studied throughout history and modern high schools and see if any quantifiable similarities exist between texts that are deemed \"of literary merit.\""
   ]
  },
  {
   "cell_type": "markdown",
   "metadata": {},
   "source": [
    "##The Code"
   ]
  },
  {
   "cell_type": "markdown",
   "metadata": {},
   "source": [
    "###Importing Needed Packages\n"
   ]
  },
  {
   "cell_type": "code",
   "execution_count": 1,
   "metadata": {
    "collapsed": true
   },
   "outputs": [],
   "source": [
    "# use regular expressions\n",
    "import re \n",
    "\n",
    "# import some texts for testing\n",
    "#from nltk.book import text 1"
   ]
  },
  {
   "cell_type": "code",
   "execution_count": null,
   "metadata": {
    "collapsed": true
   },
   "outputs": [],
   "source": [
    "# Create a dictionary which stores the identified\n",
    "# rhetorical devices \n",
    "Rhetorical_Devices = {}\n",
    "\n",
    "# Designate locations of the words\n",
    "next_location = 1\n",
    "previous_location = -1\n",
    "\n",
    "# Begin to identify rhetorical devices \n",
    "for location, word in enumerate(text):\n",
    "    \n",
    "    sentence = # between two periods\n",
    "    \n",
    "    #For enumeratio, insert a sentence\n",
    "    \n",
    "\n",
    "    \n",
    "    \n",
    "    \n",
    "    "
   ]
  },
  {
   "cell_type": "markdown",
   "metadata": {},
   "source": [
    "###Functions To Help With Parsing"
   ]
  },
  {
   "cell_type": "markdown",
   "metadata": {},
   "source": [
    "####Convert to List\n",
    "\n",
    "method for converting a sample sentence to the appropriate format of a list"
   ]
  },
  {
   "cell_type": "code",
   "execution_count": 5,
   "metadata": {
    "collapsed": true
   },
   "outputs": [],
   "source": [
    "# convert a string to a list format\n",
    "#\n",
    "# return a list in ['',''] format\n",
    "\n",
    "def convert(sentence): \n",
    "    \n",
    "    # need to add a space between the last word\n",
    "    # and the period in order for both to be\n",
    "    # counted as seperate entities\n",
    "    \n",
    "    #delete(sentence[len(sentence)-1])\n",
    "    sentence = sentence.replace('.',' .')\n",
    "    sentence = sentence.replace(',',' , ')\n",
    "    sentence = sentence.split()\n",
    "    \n",
    "    return sentence"
   ]
  },
  {
   "cell_type": "markdown",
   "metadata": {},
   "source": [
    "####Last Occurence\n",
    "\n",
    "method for finding the last occurence of an item\n",
    "\n",
    "Inspired by http://stackoverflow.com/questions/176918/finding-the-index-of-an-item-given-a-list-containing-it-in-python"
   ]
  },
  {
   "cell_type": "code",
   "execution_count": 121,
   "metadata": {
    "collapsed": true
   },
   "outputs": [],
   "source": [
    "# find the last occurence of an item\n",
    "#\n",
    "# return the index of the last occurence\n",
    "\n",
    "def lastOccurence(word2find,group):\n",
    "    \n",
    "    offset = 0;\n",
    "    indices = list()\n",
    "    \n",
    "    # create an array with all the occurence of a word\n",
    "    for i in range(group.count(word2find)):\n",
    "        indices.append(group.index(word2find,offset))\n",
    "        \n",
    "        # -1 offset for 0 indexing\n",
    "        offset = indices[-1]+1\n",
    "        \n",
    "    # find the max value in the indices in which the\n",
    "    # word2find is present\n",
    "    return max(indices)   "
   ]
  },
  {
   "cell_type": "markdown",
   "metadata": {},
   "source": [
    "###Rhetorical Device Algorithms\n",
    "\n",
    "Anadiplosis, Asyndeton, Enumeratio, Polysyndeton\n",
    "\n",
    "They have all been individually tested to be sure that they can identify their respective rhetorical device. However, false positives are still currently being tested based on larger training data, flags, and human judgement. \n",
    "\n",
    "To individually test a sentence, use this format:\n",
    "deviceName( convert( sentence))"
   ]
  },
  {
   "cell_type": "markdown",
   "metadata": {},
   "source": [
    "####Anadiplosis \n",
    "\n",
    "def: the repeatition of a word or phrase used both at the end of one sentence or clause and at the beginning of the next \n",
    "\n",
    "ex: “She being none of your flesh and blood, your flesh and blood has not offended the king” (William Shakespeare)\n",
    "\n",
    "ex: “Fear leads to anger. Anger leads to hate. Hate leads to suffering.” (George Lucas)"
   ]
  },
  {
   "cell_type": "code",
   "execution_count": 33,
   "metadata": {
    "collapsed": false
   },
   "outputs": [],
   "source": [
    "# identify Anadiplosis\n",
    "#\n",
    "# return True if it is present\n",
    "# return False if it is not\n",
    "\n",
    "def anadiplosis(first_sentence,second_sentence):\n",
    "    \n",
    "    NEXT = 1\n",
    "    \n",
    "    for location, word in enumerate(zip((first_sentence, second_sentence))):\n",
    "        \n",
    "        # first see if ending of first sentence is present in the\n",
    "        # beginning of the second sentence\n",
    "        #\n",
    "        # we do now know how long the repeated phrases/words could\n",
    "        # be, so we need to compare all lengths of possibilities \n",
    "        for i in range(len(first_sentence),location + 1,-1):\n",
    "            print(i)\n",
    "        for parse1, parse2 in zip(range(len(first_sentence),location + 1,-1),range(location + 1,len(second_sentence))):\n",
    "            \n",
    "            print(first_sentence[location:parse1] )\n",
    "            print(second_sentence[location:parse2] )\n",
    "            \n",
    "            if(first_sentence[location:parse1] == second_sentence[location:parse2]):\n",
    "                # For verification print the matched results\n",
    "                print(first_sentence[location:parse1] )\n",
    "                print(second_sentence[location:parse2] )\n",
    "                return True\n",
    "        \n",
    "        \n",
    "        \n",
    "        # write a method to return clauses from sentences \n",
    "\n",
    "\n",
    "    # does not satisfy all the conditions\n",
    "    return False"
   ]
  },
  {
   "cell_type": "code",
   "execution_count": 32,
   "metadata": {
    "collapsed": false
   },
   "outputs": [
    {
     "name": "stdout",
     "output_type": "stream",
     "text": [
      "5\n",
      "4\n",
      "3\n",
      "2\n",
      "['Fear', 'leads', 'to', 'anger', '.']\n",
      "['Anger']\n",
      "['Fear', 'leads', 'to', 'anger']\n",
      "['Anger', 'leads']\n",
      "['Fear', 'leads', 'to']\n",
      "['Anger', 'leads', 'to']\n",
      "['Fear', 'leads']\n",
      "['Anger', 'leads', 'to', 'hate']\n",
      "5\n",
      "4\n",
      "3\n",
      "['leads', 'to', 'anger', '.']\n",
      "['leads']\n",
      "['leads', 'to', 'anger']\n",
      "['leads', 'to']\n",
      "['leads', 'to']\n",
      "['leads', 'to', 'hate']\n"
     ]
    },
    {
     "data": {
      "text/plain": [
       "False"
      ]
     },
     "execution_count": 32,
     "metadata": {},
     "output_type": "execute_result"
    }
   ],
   "source": [
    "anadiplosis(convert(\"Fear leads to anger.\"),convert(\"Anger leads to hate.\"))"
   ]
  },
  {
   "cell_type": "markdown",
   "metadata": {},
   "source": [
    "####Asyndeton \n",
    "\n",
    "def: the omission or absence of a conjunction between parts of a sentence (wiki)\n",
    "\n",
    "ex: \"I came, I saw, I conquered\""
   ]
  },
  {
   "cell_type": "code",
   "execution_count": 28,
   "metadata": {
    "collapsed": true
   },
   "outputs": [],
   "source": [
    "# identify Asyndeton\n",
    "#\n",
    "# return True if it is present\n",
    "# return False if it is not\n",
    "\n",
    "# To solve the problem of telling the difference\n",
    "# between Enumeratio and Asyndeton:\n",
    "# Enumeratio will require an 'and' to be present \n",
    "# at the end of the list. Asyndeton must not have\n",
    "# any 'and's or transition words\n",
    "\n",
    "def asyndeton(sentence):\n",
    "    \n",
    "    NEXT = 1\n",
    "    \n",
    "    for location, word in enumerate(sentence):\n",
    "        \n",
    "        # cannot have any transition words\n",
    "        # can easily return false if present\n",
    "        if(('and' in sentence) or \n",
    "           ('or' in sentence)):\n",
    "            return False\n",
    "        \n",
    "        # figure out if a comma even exists\n",
    "        if( word == ','):\n",
    "            \n",
    "            # see if there is at least one another comma\n",
    "            # near the first\n",
    "            #\n",
    "            # this means it is most likely a list\n",
    "            if((sentence[location + (2 * NEXT)] == ',') or\n",
    "               (sentence[location + (3 * NEXT)] == ',') or\n",
    "               ((location + (4 * NEXT)<len(sentence))\n",
    "                and (sentence[location + (4 * NEXT)]== ','))):\n",
    "\n",
    "                \n",
    "                return True \n",
    "            \n",
    "            # if no transition words are present and there are 3\n",
    "            # or more commas,it is most likely asyndeton\n",
    "            #\n",
    "            # this should be further tested for false positives\n",
    "            if(sentence.count(',') > 2):\n",
    "                \n",
    "                print(sentence)\n",
    "                print(\"\\n\" +\n",
    "                      \"Please Check: Is this a False Positive?\"\n",
    "                      + \"\\n\" + \n",
    "                      \"The sentence was approved based on it having more than 2 commas\"\n",
    "                      + \"\\n\")\n",
    "                \n",
    "                # having more than 2 ands in a sentence\n",
    "                # is most likely stylistic\n",
    "                return True\n",
    "\n",
    "\n",
    "    # does not satisfy all the conditions\n",
    "    return False"
   ]
  },
  {
   "cell_type": "markdown",
   "metadata": {},
   "source": [
    "####Enumeratio\n",
    "def: emphasing through the use of a list\n",
    "\n",
    "ex: Renovation included a spa, tennis court, pool and lounge."
   ]
  },
  {
   "cell_type": "code",
   "execution_count": 128,
   "metadata": {
    "collapsed": true
   },
   "outputs": [],
   "source": [
    "# identify Enumeratio\n",
    "#\n",
    "# return True if it is present\n",
    "# return False if it is not\n",
    "\n",
    "# To solve the problem of telling the difference\n",
    "# between Enumeratio and Asyndeton:\n",
    "# Enumeratio will require an 'and' to be present \n",
    "# at the end of the list. Asyndeton must not have\n",
    "# any 'and's\n",
    "\n",
    "def enumeratio(sentence):\n",
    "    \n",
    "    NEXT = 1\n",
    "    \n",
    "    for location, word in enumerate(sentence):\n",
    "        \n",
    "        # figure out if a comma even exists\n",
    "        if( word == ','):\n",
    "            \n",
    "            # see if there is at least one another comma\n",
    "            # near the first\n",
    "            #\n",
    "            # this means it is most likely a list\n",
    "            if((sentence[location + (2 * NEXT)] == ',') or\n",
    "               (sentence[location + (3 * NEXT)] == ',') or\n",
    "               ((location + (4 * NEXT)<len(sentence))\n",
    "                and (sentence[location + (4 * NEXT)]== ','))):\n",
    "\n",
    "\n",
    "                # for security, check if an 'and' is present\n",
    "                # between the last comma and the period\n",
    "                #\n",
    "                # this helps differentiate asyndeton versus\n",
    "                # enumeratio\n",
    "                if 'and' in sentence[lastOccurence(',', sentence):\n",
    "                                     len(sentence)-1]:\n",
    "                    \n",
    "                    return True \n",
    "\n",
    "                \n",
    "    # does not satisfy all the conditions\n",
    "    return False"
   ]
  },
  {
   "cell_type": "markdown",
   "metadata": {},
   "source": [
    "####Polysyndeton\n",
    "def: the repetitive use of the words “and”, “or”, and “nor” \n",
    "\n",
    "ex: “Let the whitefolks have their money and power and segregation and sarcasm and big houses and schools and lawns like carpets, and books, and mostly–mostly–let them have their whiteness.” (Maya Angelou, I Know Why the Caged Bird Sings)"
   ]
  },
  {
   "cell_type": "code",
   "execution_count": 32,
   "metadata": {
    "collapsed": false
   },
   "outputs": [],
   "source": [
    "# identify Polysyndeton\n",
    "#\n",
    "# return True if it is present\n",
    "# return False if it is not\n",
    "\n",
    "\n",
    "def polysyndeton(sentence):\n",
    "    \n",
    "    NEXT = 1\n",
    "\n",
    "    found_test_word = False\n",
    "    \n",
    "    for location, word in enumerate(sentence):\n",
    "        \n",
    "        # run the same algorithms for 'and', 'or',\n",
    "        # 'but' and 'nor\n",
    "        \n",
    "        # figure out if an 'and' is present\n",
    "        if( word == 'and' ):\n",
    "            found_test_word = True\n",
    "            testing_word = 'and'\n",
    "            \n",
    "        # figure out if an 'or' is present    \n",
    "        if( word == 'or' ):\n",
    "            found_test_word = True\n",
    "            testing_word = 'or' \n",
    "            \n",
    "        # figure out if an 'nor' is present   \n",
    "        if( word == 'nor' ):\n",
    "            found_test_word = True\n",
    "            testing_word = 'nor'\n",
    "           \n",
    "        \n",
    "        # run the checking algorithm only if \n",
    "        # appropriate words were found\n",
    "        if(found_test_word):\n",
    "            \n",
    "            # see if there is at least one other and\n",
    "            # near the first\n",
    "            #\n",
    "            # this means it is most likely a list\n",
    "            if((sentence[location + (2 * NEXT)] == testing_word) or\n",
    "               (sentence[location + (3 * NEXT)] == testing_word) or\n",
    "               ((location + (4 * NEXT)<len(sentence))\n",
    "                and (sentence[location + (4 * NEXT)]== testing_word))):\n",
    "\n",
    "                return True \n",
    "            \n",
    "            if(sentence.count(testing_word) > 2):\n",
    "                \n",
    "                print(sentence)\n",
    "                print(\"\\n\" +\n",
    "                      \"Please Check: Is this a False Positive?\"\n",
    "                      + \"\\n\" + \n",
    "                      \"The sentence was approved based on it having more than 2 occurence of the word\"\n",
    "                      + testing_word + \"\\n\")\n",
    "                \n",
    "                # having more than 2 ands in a sentence\n",
    "                # is most likely stylistic\n",
    "                return True\n",
    "\n",
    "\n",
    "                \n",
    "    # does not satisfy all the conditions\n",
    "    return False\n",
    "    "
   ]
  }
 ],
 "metadata": {
  "kernelspec": {
   "display_name": "Python 3",
   "language": "python",
   "name": "python3"
  },
  "language_info": {
   "codemirror_mode": {
    "name": "ipython",
    "version": 3
   },
   "file_extension": ".py",
   "mimetype": "text/x-python",
   "name": "python",
   "nbconvert_exporter": "python",
   "pygments_lexer": "ipython3",
   "version": "3.4.3"
  }
 },
 "nbformat": 4,
 "nbformat_minor": 0
}
