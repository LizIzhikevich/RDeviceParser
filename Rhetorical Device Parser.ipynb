{
 "cells": [
  {
   "cell_type": "markdown",
   "metadata": {},
   "source": [
    "#Rhetorical Device Parser\n",
    "\n",
    "Author: Liz Izhikevich\n",
    "\n",
    "Date: August 26, 2015"
   ]
  },
  {
   "cell_type": "markdown",
   "metadata": {},
   "source": [
    "##Introduction\n",
    "\n",
    "The purpose of this parser is to be able to identify popular rhetorical elements within given texts.\n",
    "\n",
    "Upon completion, it will be used to analyze literature studied throughout history and modern high schools and see if any quantifiable similarities exist between texts that are deemed \"of literary merit.\""
   ]
  },
  {
   "cell_type": "markdown",
   "metadata": {},
   "source": [
    "##The Code"
   ]
  },
  {
   "cell_type": "markdown",
   "metadata": {},
   "source": [
    "###Importing Needed Packages\n"
   ]
  },
  {
   "cell_type": "code",
   "execution_count": 1,
   "metadata": {
    "collapsed": true
   },
   "outputs": [],
   "source": [
    "# use regular expressions\n",
    "import re \n",
    "\n",
    "# import some texts for testing\n",
    "#from nltk.book import text 1"
   ]
  },
  {
   "cell_type": "code",
   "execution_count": null,
   "metadata": {
    "collapsed": true
   },
   "outputs": [],
   "source": [
    "# Create a dictionary which stores the identified\n",
    "# rhetorical devices \n",
    "Rhetorical_Devices = {}\n",
    "\n",
    "# Designate locations of the words\n",
    "next_location = 1\n",
    "previous_location = -1\n",
    "\n",
    "# Begin to identify rhetorical devices \n",
    "for location, word in enumerate(text):\n",
    "    \n",
    "    #For enumeratio, insert a sentence\n",
    "    \n",
    "\n",
    "    \n",
    "    \n",
    "    \n",
    "    "
   ]
  },
  {
   "cell_type": "markdown",
   "metadata": {},
   "source": [
    "####Convert to List\n",
    "\n",
    "method for converting a sample sentence to the appropriate format of a list"
   ]
  },
  {
   "cell_type": "code",
   "execution_count": 140,
   "metadata": {
    "collapsed": true
   },
   "outputs": [],
   "source": [
    "# convert a string to a list format\n",
    "#\n",
    "# return a list in ['',''] format\n",
    "\n",
    "def convert(sentence): \n",
    "    \n",
    "    # need to add a space between the last word\n",
    "    # and the period in order for both to be\n",
    "    # counted as seperate entities\n",
    "    \n",
    "    #delete(sentence[len(sentence)-1])\n",
    "    sentence = sentence.replace('.',' .')\n",
    "    sentence = sentence.replace(',',' , ')\n",
    "    sentence = sentence.split()\n",
    "    \n",
    "    return sentence"
   ]
  },
  {
   "cell_type": "markdown",
   "metadata": {},
   "source": [
    "####Last Occurence\n",
    "\n",
    "method for finding the last occurence of an item\n",
    "\n",
    "Inspired by http://stackoverflow.com/questions/176918/finding-the-index-of-an-item-given-a-list-containing-it-in-python"
   ]
  },
  {
   "cell_type": "code",
   "execution_count": 121,
   "metadata": {
    "collapsed": true
   },
   "outputs": [],
   "source": [
    "# find the last occurence of an item\n",
    "#\n",
    "# return the index of the last occurence\n",
    "\n",
    "def lastOccurence(word2find,group):\n",
    "    \n",
    "    offset = 0;\n",
    "    indices = list()\n",
    "    \n",
    "    # create an array with all the occurence of a word\n",
    "    for i in range(group.count(word2find)):\n",
    "        indices.append(group.index(word2find,offset))\n",
    "        \n",
    "        # -1 offset for 0 indexing\n",
    "        offset = indices[-1]+1\n",
    "        \n",
    "    # find the max value in the indices in which the\n",
    "    # word2find is present\n",
    "    return max(indices)   "
   ]
  },
  {
   "cell_type": "markdown",
   "metadata": {},
   "source": [
    "####Enumeratio\n",
    "def: emphasing through the use of a list\n",
    "\n",
    "ex: Renovation included a spa, tennis court, pool and lounge."
   ]
  },
  {
   "cell_type": "code",
   "execution_count": 128,
   "metadata": {
    "collapsed": true
   },
   "outputs": [],
   "source": [
    "# identify Enumeratio\n",
    "#\n",
    "# return True if it is present\n",
    "# return False if it is not\n",
    "\n",
    "NEXT = 1\n",
    "\n",
    "def enumeratio(sentence):\n",
    "    \n",
    "    for location, word in enumerate(sentence):\n",
    "        \n",
    "        # figure out if a comma even exists\n",
    "        if( word == ','):\n",
    "            \n",
    "            # see if there is at least one another comma\n",
    "            # near the first\n",
    "            #\n",
    "            # this means it is most likely a list\n",
    "            if((sentence[location + (2 * NEXT)] == ',') or\n",
    "               (sentence[location + (3 * NEXT)] == ',') or\n",
    "               ((location + (4 * NEXT)<len(sentence))\n",
    "                and (sentence[location + (4 * NEXT)]== ','))):\n",
    "\n",
    "                \n",
    "                return True \n",
    "                \"\"\"\n",
    "                # for security, check if an 'and' is present\n",
    "                # between the last comma and the period\n",
    "                if 'and' in sentence[lastOccurence(',', sentence):\n",
    "                                     len(sentence)-1]:\n",
    "                    \n",
    "                \"\"\"\n",
    "    # does not satisfy all the conditions\n",
    "    return False\n",
    "    \n"
   ]
  },
  {
   "cell_type": "markdown",
   "metadata": {},
   "source": [
    "####Polysyndeton\n",
    "def: the repetitive use of the words “and”, “or”, “but” and “nor” too \n",
    "\n",
    "ex: “Let the whitefolks have their money and power and segregation and sarcasm and big houses and schools and lawns like carpets, and books, and mostly–mostly–let them have their whiteness.” (Maya Angelou, I Know Why the Caged Bird Sings)"
   ]
  },
  {
   "cell_type": "code",
   "execution_count": null,
   "metadata": {
    "collapsed": true
   },
   "outputs": [],
   "source": [
    "# identify Polysyndeton\n",
    "#\n",
    "# return True if it is present\n",
    "# return False if it is not\n",
    "\n",
    "NEXT = 1\n",
    "\n",
    "def polysyndeton(sentence):\n",
    "    \n",
    "    for location, word in enumerate(sentence):\n",
    "        \n",
    "        # figure out if a comma even exists\n",
    "        if( word == 'and'):\n",
    "            \n",
    "            # see if there is at least one another comma\n",
    "            # near the first\n",
    "            #\n",
    "            # this means it is most likely a list\n",
    "            if((sentence[location + (2 * NEXT)] == 'and') or\n",
    "               (sentence[location + (3 * NEXT)] == 'and') or\n",
    "               ((location + (4 * NEXT)<len(sentence))\n",
    "                and (sentence[location + (4 * NEXT)]== 'and'))):\n",
    "\n",
    "                \n",
    "                return True \n",
    "                \"\"\"\n",
    "                # for security, check if an 'and' is present\n",
    "                # between the last comma and the period\n",
    "                if 'and' in sentence[lastOccurence(',', sentence):\n",
    "                                     len(sentence)-1]:\n",
    "                    \n",
    "                \"\"\"\n",
    "    # does not satisfy all the conditions\n",
    "    return False\n",
    "    "
   ]
  }
 ],
 "metadata": {
  "kernelspec": {
   "display_name": "Python 3",
   "language": "python",
   "name": "python3"
  },
  "language_info": {
   "codemirror_mode": {
    "name": "ipython",
    "version": 3
   },
   "file_extension": ".py",
   "mimetype": "text/x-python",
   "name": "python",
   "nbconvert_exporter": "python",
   "pygments_lexer": "ipython3",
   "version": "3.4.3"
  }
 },
 "nbformat": 4,
 "nbformat_minor": 0
}
